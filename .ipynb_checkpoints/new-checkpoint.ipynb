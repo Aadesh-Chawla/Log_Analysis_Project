{
 "cells": [
  {
   "cell_type": "markdown",
   "id": "81c07de6-323a-489f-8aa8-ba0f5ce0f2a6",
   "metadata": {},
   "source": [
    "# remove column"
   ]
  },
  {
   "cell_type": "code",
   "execution_count": null,
   "id": "021308a4-fa33-4b30-b5f7-e51e6536f092",
   "metadata": {},
   "outputs": [],
   "source": [
    "import pandas as pd\n",
    "\n",
    "# Load your dataset\n",
    "df = pd.read_csv(\"D:\\\\Final Year\\\\Major Project\\\\dataset\\\\merged_versions\\\\anonymized_merged_logs_2.csv\")\n",
    "\n",
    "# List of columns to drop\n",
    "columns_to_drop = ['thread', 'class', 'message', 'labels', 'Disk full', 'Machine down', 'Network disconnection', 'Normal']\n",
    "\n",
    "# Drop the specified columns\n",
    "df = df.drop(columns=columns_to_drop)\n",
    "\n",
    "# Save the updated dataset to a new CSV file\n",
    "df.to_csv('removed_dataset.csv', index=False)\n",
    "\n",
    "print(\"Specified columns removed and saved to 'reemoved_dataset.csv'\")"
   ]
  }
 ],
 "metadata": {
  "kernelspec": {
   "display_name": "Python 3 (ipykernel)",
   "language": "python",
   "name": "python3"
  },
  "language_info": {
   "codemirror_mode": {
    "name": "ipython",
    "version": 3
   },
   "file_extension": ".py",
   "mimetype": "text/x-python",
   "name": "python",
   "nbconvert_exporter": "python",
   "pygments_lexer": "ipython3",
   "version": "3.12.7"
  }
 },
 "nbformat": 4,
 "nbformat_minor": 5
}
